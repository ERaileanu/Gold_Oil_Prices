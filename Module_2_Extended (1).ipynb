{
 "cells": [
  {
   "cell_type": "code",
   "execution_count": 1,
   "id": "8f3def80-ded8-491a-af39-8db2b3ba6dc2",
   "metadata": {},
   "outputs": [],
   "source": [
    "import pandas as pd"
   ]
  },
  {
   "cell_type": "code",
   "execution_count": 56,
   "id": "f99dac78-83ed-4540-98ff-5bbc20436a27",
   "metadata": {},
   "outputs": [
    {
     "name": "stdout",
     "output_type": "stream",
     "text": [
      "            Date        Open        High         Low       Close   Adj Close  \\\n",
      "0     2011-12-15  154.740005  154.949997  151.710007  152.330002  152.330002   \n",
      "1     2011-12-16  154.309998  155.369995  153.899994  155.229996  155.229996   \n",
      "2     2011-12-19  155.479996  155.860001  154.360001  154.869995  154.869995   \n",
      "3     2011-12-20  156.820007  157.429993  156.580002  156.979996  156.979996   \n",
      "4     2011-12-21  156.979996  157.529999  156.130005  157.160004  157.160004   \n",
      "...          ...         ...         ...         ...         ...         ...   \n",
      "1713  2018-12-24  119.570000  120.139999  119.570000  120.019997  120.019997   \n",
      "1714  2018-12-26  120.620003  121.000000  119.570000  119.660004  119.660004   \n",
      "1715  2018-12-27  120.570000  120.900002  120.139999  120.570000  120.570000   \n",
      "1716  2018-12-28  120.800003  121.080002  120.720001  121.059998  121.059998   \n",
      "1717  2018-12-31  120.980003  121.260002  120.830002  121.250000  121.250000   \n",
      "\n",
      "        Volume     SP_open     SP_high      SP_low  ...    GDX_Low  GDX_Close  \\\n",
      "0     21521900  123.029999  123.199997  121.989998  ...  51.570000  51.680000   \n",
      "1     18124300  122.230003  122.949997  121.300003  ...  52.040001  52.680000   \n",
      "2     12547200  122.059998  122.320000  120.029999  ...  51.029999  51.169998   \n",
      "3      9136300  122.180000  124.139999  120.370003  ...  52.369999  52.990002   \n",
      "4     11996100  123.930000  124.360001  122.750000  ...  52.419998  52.959999   \n",
      "...        ...         ...         ...         ...  ...        ...        ...   \n",
      "1713   9736400  239.039993  240.839996  234.270004  ...  20.650000  21.090000   \n",
      "1714  14293500  235.970001  246.179993  233.759995  ...  20.530001  20.620001   \n",
      "1715  11874400  242.570007  248.289993  238.960007  ...  20.700001  20.969999   \n",
      "1716   6864700  249.580002  251.399994  246.449997  ...  20.570000  20.600000   \n",
      "1717   8449400  249.559998  250.190002  247.470001  ...  20.559999  21.090000   \n",
      "\n",
      "      GDX_Adj Close  GDX_Volume   USO_Open   USO_High    USO_Low  USO_Close  \\\n",
      "0         48.973877    20605600  36.900002  36.939999  36.049999  36.130001   \n",
      "1         49.921513    16285400  36.180000  36.500000  35.730000  36.270000   \n",
      "2         48.490578    15120200  36.389999  36.450001  35.930000  36.200001   \n",
      "3         50.215282    11644900  37.299999  37.610001  37.220001  37.560001   \n",
      "4         50.186852     8724300  37.669998  38.240002  37.520000  38.110001   \n",
      "...             ...         ...        ...        ...        ...        ...   \n",
      "1713      21.090000    60507000   9.490000   9.520000   9.280000   9.290000   \n",
      "1714      20.620001    76365200   9.250000   9.920000   9.230000   9.900000   \n",
      "1715      20.969999    52393000   9.590000   9.650000   9.370000   9.620000   \n",
      "1716      20.600000    49835000   9.540000   9.650000   9.380000   9.530000   \n",
      "1717      21.090000    53866600   9.630000   9.710000   9.440000   9.660000   \n",
      "\n",
      "      USO_Adj Close  USO_Volume  \n",
      "0         36.130001    12616700  \n",
      "1         36.270000    12578800  \n",
      "2         36.200001     7418200  \n",
      "3         37.560001    10041600  \n",
      "4         38.110001    10728000  \n",
      "...             ...         ...  \n",
      "1713       9.290000    21598200  \n",
      "1714       9.900000    40978800  \n",
      "1715       9.620000    36578700  \n",
      "1716       9.530000    22803400  \n",
      "1717       9.660000    28417400  \n",
      "\n",
      "[1718 rows x 81 columns]\n",
      "(1718, 81)\n",
      "Date              object\n",
      "Open             float64\n",
      "High             float64\n",
      "Low              float64\n",
      "Close            float64\n",
      "                  ...   \n",
      "USO_High         float64\n",
      "USO_Low          float64\n",
      "USO_Close        float64\n",
      "USO_Adj Close    float64\n",
      "USO_Volume         int64\n",
      "Length: 81, dtype: object\n"
     ]
    }
   ],
   "source": [
    "# Read the data\n",
    "gold = pd.read_csv('gold_stocks_price.csv')\n",
    "# View the data\n",
    "print(gold)\n",
    "# View the number of rows and columns\n",
    "print(gold.shape)\n",
    "# View the data types\n",
    "print(gold.dtypes)"
   ]
  },
  {
   "cell_type": "code",
   "execution_count": 58,
   "id": "20d97add-f0bc-424b-b0f7-a10bdb7c340a",
   "metadata": {},
   "outputs": [
    {
     "name": "stdout",
     "output_type": "stream",
     "text": [
      "            Date   Price    Open    High     Low     Vol.\n",
      "0     2011-12-01  100.20  100.51  101.17   98.87  275.86K\n",
      "1     2011-12-02  100.96  100.00  101.56   99.76  245.92K\n",
      "2     2011-12-05  100.99  101.23  102.44  100.24  239.38K\n",
      "3     2011-12-06  101.28  100.45  101.42  100.20  217.03K\n",
      "4     2011-12-07  100.49  101.11  101.94   99.67  330.53K\n",
      "...          ...     ...     ...     ...     ...      ...\n",
      "1839  2018-12-25   43.16   43.00   43.25   42.88        -\n",
      "1840  2018-12-26   46.22   42.85   47.00   42.52  698.41K\n",
      "1841  2018-12-27   44.61   46.58   46.70   44.37  665.59K\n",
      "1842  2018-12-28   45.33   45.44   46.22   44.42  564.39K\n",
      "1843  2018-12-31   45.41   45.22   46.53   44.73  476.97K\n",
      "\n",
      "[1844 rows x 6 columns]\n",
      "(1844, 6)\n",
      "Date      object\n",
      "Price    float64\n",
      "Open     float64\n",
      "High     float64\n",
      "Low      float64\n",
      "Vol.      object\n",
      "dtype: object\n"
     ]
    }
   ],
   "source": [
    "# Read the oil_price file\n",
    "oil = pd.read_csv('oil_price.csv')\n",
    "# View the data\n",
    "print(oil)\n",
    "# View the number of rows and columns\n",
    "print(oil.shape)\n",
    "# View the data types\n",
    "print(oil.dtypes)"
   ]
  },
  {
   "cell_type": "code",
   "execution_count": 60,
   "id": "5705c41c-3bae-4adc-abc3-620a60985aa1",
   "metadata": {},
   "outputs": [
    {
     "name": "stdout",
     "output_type": "stream",
     "text": [
      "(500, 4)\n",
      "Date              object\n",
      "Open             float64\n",
      "High             float64\n",
      "Low              float64\n",
      "Close            float64\n",
      "                  ...   \n",
      "USO_High         float64\n",
      "USO_Low          float64\n",
      "USO_Close        float64\n",
      "USO_Adj Close    float64\n",
      "USO_Volume         int64\n",
      "Length: 81, dtype: object\n"
     ]
    }
   ],
   "source": [
    "# Subset the gold DataFrame\n",
    "gold_subset = gold[['Date', 'Open', 'High', 'Low']]\n",
    "\n",
    "# Slice the gold_subset to 500 rows\n",
    "gold_subset = gold_subset.iloc[:500]\n",
    "\n",
    "# View the gold_subset\n",
    "print(gold_subset.shape)\n",
    "print(gold.dtypes)"
   ]
  },
  {
   "cell_type": "code",
   "execution_count": 5,
   "id": "e192e5e8-9330-4c13-a7b0-9ab90456b6c0",
   "metadata": {},
   "outputs": [
    {
     "data": {
      "text/plain": [
       "Date    0\n",
       "Open    0\n",
       "High    0\n",
       "Low     0\n",
       "dtype: int64"
      ]
     },
     "execution_count": 5,
     "metadata": {},
     "output_type": "execute_result"
    }
   ],
   "source": [
    "# Determine the missing values\n",
    "gold_subset.isna().sum()"
   ]
  },
  {
   "cell_type": "code",
   "execution_count": 6,
   "id": "b7750678-1fdc-453c-b118-525a6717cbf6",
   "metadata": {},
   "outputs": [
    {
     "name": "stdout",
     "output_type": "stream",
     "text": [
      "173.2\n",
      "117.58\n"
     ]
    }
   ],
   "source": [
    "# Return max value of the column Open\n",
    "print(round(gold_subset['Open'].max(), 2))\n",
    "\n",
    "# Return min of the column Open\n",
    "print(round(gold_subset['Open'].min(), 2))"
   ]
  },
  {
   "cell_type": "code",
   "execution_count": 7,
   "id": "5b12ad47-86d9-454a-bead-0a10cc5ae002",
   "metadata": {},
   "outputs": [
    {
     "name": "stdout",
     "output_type": "stream",
     "text": [
      "174.07\n",
      "118.18\n"
     ]
    }
   ],
   "source": [
    "# Return max value of the column High\n",
    "print(round(gold_subset['High'].max(), 2))\n",
    "\n",
    "# Return min of the column Open\n",
    "print(gold_subset['High'].min())"
   ]
  },
  {
   "cell_type": "code",
   "execution_count": 8,
   "id": "49e44329-4533-4e75-ae28-747fa499a2e5",
   "metadata": {},
   "outputs": [
    {
     "name": "stdout",
     "output_type": "stream",
     "text": [
      "172.92\n",
      "116.74\n"
     ]
    }
   ],
   "source": [
    "# Return max value of the column Low\n",
    "print(round(gold_subset['Low'].max(), 2))\n",
    "\n",
    "# Return min of the column Open\n",
    "print(round(gold_subset['Low'].min(), 2))"
   ]
  },
  {
   "cell_type": "code",
   "execution_count": 9,
   "id": "7167a23d-2c9a-4542-8ad6-1f9f576738c2",
   "metadata": {},
   "outputs": [
    {
     "name": "stdout",
     "output_type": "stream",
     "text": [
      "             Open        High         Low\n",
      "count  500.000000  500.000000  500.000000\n",
      "mean   149.033480  149.774340  148.266740\n",
      "std     16.923214   16.919180   16.871447\n",
      "min    117.580002  118.180000  116.739998\n",
      "25%    132.134998  133.144997  131.192501\n",
      "50%    155.070000  155.610001  154.360001\n",
      "75%    161.862500  162.577500  161.149994\n",
      "max    173.199997  174.070007  172.919998\n"
     ]
    }
   ],
   "source": [
    "# Determine the mean and 75th percentile values of each column\n",
    "print(gold_subset.describe())"
   ]
  },
  {
   "cell_type": "code",
   "execution_count": 62,
   "id": "119e8481-f432-4482-b75c-920be6b6dbe1",
   "metadata": {},
   "outputs": [
    {
     "name": "stdout",
     "output_type": "stream",
     "text": [
      "(500, 4)\n",
      "Date     object\n",
      "Open    float64\n",
      "High    float64\n",
      "Low     float64\n",
      "dtype: object\n"
     ]
    }
   ],
   "source": [
    "# Subset the oil DataFrame\n",
    "oil_subset = oil[['Date', 'Open', 'High', 'Low']]\n",
    "# Slice the DataFrame to only 500 rows\n",
    "oil_subset = oil_subset.iloc[:500]\n",
    "# View the new DataFrame\n",
    "print(oil_subset.shape)\n",
    "print(oil_subset.dtypes)"
   ]
  },
  {
   "cell_type": "code",
   "execution_count": 11,
   "id": "42b899de-a4ae-4599-b190-bedd4e88357b",
   "metadata": {},
   "outputs": [
    {
     "data": {
      "text/plain": [
       "Date    0\n",
       "Open    0\n",
       "High    0\n",
       "Low     0\n",
       "dtype: int64"
      ]
     },
     "execution_count": 11,
     "metadata": {},
     "output_type": "execute_result"
    }
   ],
   "source": [
    "# Determine the missing values\n",
    "oil_subset.isna().sum()"
   ]
  },
  {
   "cell_type": "code",
   "execution_count": 12,
   "id": "91719d91-4c28-46d8-b7e4-e18bda5e30a1",
   "metadata": {},
   "outputs": [
    {
     "name": "stdout",
     "output_type": "stream",
     "text": [
      "110.28\n",
      "78.11\n"
     ]
    }
   ],
   "source": [
    "# Determine the maximum and minimum values for the column Open\n",
    "print(oil_subset['Open'].max())\n",
    "print(oil_subset['Open'].min())"
   ]
  },
  {
   "cell_type": "code",
   "execution_count": 13,
   "id": "0795f1e8-9863-4186-b2f7-3c84d7482854",
   "metadata": {},
   "outputs": [
    {
     "name": "stdout",
     "output_type": "stream",
     "text": [
      "112.24\n",
      "79.68\n"
     ]
    }
   ],
   "source": [
    "# Determine the maximum and minimum values for the column High\n",
    "print(oil_subset['High'].max())\n",
    "print(oil_subset['High'].min())"
   ]
  },
  {
   "cell_type": "code",
   "execution_count": 14,
   "id": "7940f742-d3f4-4752-9248-5c29c2b9690e",
   "metadata": {},
   "outputs": [
    {
     "name": "stdout",
     "output_type": "stream",
     "text": [
      "109.11\n",
      "77.28\n"
     ]
    }
   ],
   "source": [
    "# Determine the maximum and minimum values for the column Low\n",
    "print(oil_subset['Low'].max())\n",
    "print(oil_subset['Low'].min())"
   ]
  },
  {
   "cell_type": "code",
   "execution_count": 15,
   "id": "373649f0-9d2a-43f6-bee5-12193117ceb2",
   "metadata": {},
   "outputs": [
    {
     "name": "stdout",
     "output_type": "stream",
     "text": [
      "             Open        High         Low\n",
      "count  500.000000  500.000000  500.000000\n",
      "mean    96.196620   97.153780   95.084320\n",
      "std      6.991871    6.945661    7.003769\n",
      "min     78.110000   79.680000   77.280000\n",
      "25%     91.707500   92.627500   90.645000\n",
      "50%     95.790000   96.640000   94.820000\n",
      "75%    102.002500  102.962500  100.847500\n",
      "max    110.280000  112.240000  109.110000\n"
     ]
    }
   ],
   "source": [
    "# Determine the mean and 75th percentile values of each column\n",
    "print(oil_subset.describe())"
   ]
  },
  {
   "cell_type": "code",
   "execution_count": 68,
   "id": "7793603e-a27d-4d47-a15e-ee678f9f2dfa",
   "metadata": {},
   "outputs": [
    {
     "data": {
      "text/html": [
       "<div>\n",
       "<style scoped>\n",
       "    .dataframe tbody tr th:only-of-type {\n",
       "        vertical-align: middle;\n",
       "    }\n",
       "\n",
       "    .dataframe tbody tr th {\n",
       "        vertical-align: top;\n",
       "    }\n",
       "\n",
       "    .dataframe thead th {\n",
       "        text-align: right;\n",
       "    }\n",
       "</style>\n",
       "<table border=\"1\" class=\"dataframe\">\n",
       "  <thead>\n",
       "    <tr style=\"text-align: right;\">\n",
       "      <th></th>\n",
       "      <th>Date</th>\n",
       "      <th>Open</th>\n",
       "      <th>High</th>\n",
       "      <th>Low</th>\n",
       "      <th>Average_Gold</th>\n",
       "    </tr>\n",
       "  </thead>\n",
       "  <tbody>\n",
       "    <tr>\n",
       "      <th>0</th>\n",
       "      <td>2011-12-15</td>\n",
       "      <td>154.740005</td>\n",
       "      <td>154.949997</td>\n",
       "      <td>151.710007</td>\n",
       "      <td>153.800003</td>\n",
       "    </tr>\n",
       "    <tr>\n",
       "      <th>1</th>\n",
       "      <td>2011-12-16</td>\n",
       "      <td>154.309998</td>\n",
       "      <td>155.369995</td>\n",
       "      <td>153.899994</td>\n",
       "      <td>154.526662</td>\n",
       "    </tr>\n",
       "    <tr>\n",
       "      <th>2</th>\n",
       "      <td>2011-12-19</td>\n",
       "      <td>155.479996</td>\n",
       "      <td>155.860001</td>\n",
       "      <td>154.360001</td>\n",
       "      <td>155.233333</td>\n",
       "    </tr>\n",
       "    <tr>\n",
       "      <th>3</th>\n",
       "      <td>2011-12-20</td>\n",
       "      <td>156.820007</td>\n",
       "      <td>157.429993</td>\n",
       "      <td>156.580002</td>\n",
       "      <td>156.943334</td>\n",
       "    </tr>\n",
       "    <tr>\n",
       "      <th>4</th>\n",
       "      <td>2011-12-21</td>\n",
       "      <td>156.979996</td>\n",
       "      <td>157.529999</td>\n",
       "      <td>156.130005</td>\n",
       "      <td>156.880000</td>\n",
       "    </tr>\n",
       "  </tbody>\n",
       "</table>\n",
       "</div>"
      ],
      "text/plain": [
       "         Date        Open        High         Low  Average_Gold\n",
       "0  2011-12-15  154.740005  154.949997  151.710007    153.800003\n",
       "1  2011-12-16  154.309998  155.369995  153.899994    154.526662\n",
       "2  2011-12-19  155.479996  155.860001  154.360001    155.233333\n",
       "3  2011-12-20  156.820007  157.429993  156.580002    156.943334\n",
       "4  2011-12-21  156.979996  157.529999  156.130005    156.880000"
      ]
     },
     "execution_count": 68,
     "metadata": {},
     "output_type": "execute_result"
    }
   ],
   "source": [
    "# Determine the average of gold per day.\n",
    "# Write a user-defined function.\n",
    "def avg_col3(x, y, z):\n",
    "    a = (x + y + z)/3\n",
    "    return a\n",
    "\n",
    "# Insert avg into a new column.\n",
    "gold_subset['Average_Gold'] = avg_col3(gold_subset['Open'], gold_subset['High'], gold_subset['Low'])\n",
    "\n",
    "# View the DataFrame.\n",
    "gold_subset.head()"
   ]
  },
  {
   "cell_type": "code",
   "execution_count": 70,
   "id": "dab23387-2406-4ac2-a2dc-6f8369520334",
   "metadata": {},
   "outputs": [
    {
     "data": {
      "text/html": [
       "<div>\n",
       "<style scoped>\n",
       "    .dataframe tbody tr th:only-of-type {\n",
       "        vertical-align: middle;\n",
       "    }\n",
       "\n",
       "    .dataframe tbody tr th {\n",
       "        vertical-align: top;\n",
       "    }\n",
       "\n",
       "    .dataframe thead th {\n",
       "        text-align: right;\n",
       "    }\n",
       "</style>\n",
       "<table border=\"1\" class=\"dataframe\">\n",
       "  <thead>\n",
       "    <tr style=\"text-align: right;\">\n",
       "      <th></th>\n",
       "      <th>Date</th>\n",
       "      <th>Open</th>\n",
       "      <th>High</th>\n",
       "      <th>Low</th>\n",
       "      <th>Average_Oil</th>\n",
       "    </tr>\n",
       "  </thead>\n",
       "  <tbody>\n",
       "    <tr>\n",
       "      <th>0</th>\n",
       "      <td>2011-12-01</td>\n",
       "      <td>100.51</td>\n",
       "      <td>101.17</td>\n",
       "      <td>98.87</td>\n",
       "      <td>100.183333</td>\n",
       "    </tr>\n",
       "    <tr>\n",
       "      <th>1</th>\n",
       "      <td>2011-12-02</td>\n",
       "      <td>100.00</td>\n",
       "      <td>101.56</td>\n",
       "      <td>99.76</td>\n",
       "      <td>100.440000</td>\n",
       "    </tr>\n",
       "    <tr>\n",
       "      <th>2</th>\n",
       "      <td>2011-12-05</td>\n",
       "      <td>101.23</td>\n",
       "      <td>102.44</td>\n",
       "      <td>100.24</td>\n",
       "      <td>101.303333</td>\n",
       "    </tr>\n",
       "    <tr>\n",
       "      <th>3</th>\n",
       "      <td>2011-12-06</td>\n",
       "      <td>100.45</td>\n",
       "      <td>101.42</td>\n",
       "      <td>100.20</td>\n",
       "      <td>100.690000</td>\n",
       "    </tr>\n",
       "    <tr>\n",
       "      <th>4</th>\n",
       "      <td>2011-12-07</td>\n",
       "      <td>101.11</td>\n",
       "      <td>101.94</td>\n",
       "      <td>99.67</td>\n",
       "      <td>100.906667</td>\n",
       "    </tr>\n",
       "  </tbody>\n",
       "</table>\n",
       "</div>"
      ],
      "text/plain": [
       "         Date    Open    High     Low  Average_Oil\n",
       "0  2011-12-01  100.51  101.17   98.87   100.183333\n",
       "1  2011-12-02  100.00  101.56   99.76   100.440000\n",
       "2  2011-12-05  101.23  102.44  100.24   101.303333\n",
       "3  2011-12-06  100.45  101.42  100.20   100.690000\n",
       "4  2011-12-07  101.11  101.94   99.67   100.906667"
      ]
     },
     "execution_count": 70,
     "metadata": {},
     "output_type": "execute_result"
    }
   ],
   "source": [
    "# Determine the average of oil per day.\n",
    "# Write a user-defined function.\n",
    "def avg_col3(x, y, z):\n",
    "    a = (x + y + z)/3\n",
    "    return a\n",
    "\n",
    "# Insert avg into a new column.\n",
    "oil_subset['Average_Oil'] = avg_col3(oil_subset['Open'], oil_subset['High'], oil_subset['Low'])\n",
    "\n",
    "# View the DataFrame.\n",
    "oil_subset.head()"
   ]
  },
  {
   "cell_type": "code",
   "execution_count": 72,
   "id": "98903b78-6ba3-4622-8409-c1de721be987",
   "metadata": {},
   "outputs": [
    {
     "data": {
      "text/html": [
       "<div>\n",
       "<style scoped>\n",
       "    .dataframe tbody tr th:only-of-type {\n",
       "        vertical-align: middle;\n",
       "    }\n",
       "\n",
       "    .dataframe tbody tr th {\n",
       "        vertical-align: top;\n",
       "    }\n",
       "\n",
       "    .dataframe thead th {\n",
       "        text-align: right;\n",
       "    }\n",
       "</style>\n",
       "<table border=\"1\" class=\"dataframe\">\n",
       "  <thead>\n",
       "    <tr style=\"text-align: right;\">\n",
       "      <th></th>\n",
       "      <th>Date</th>\n",
       "      <th>Open</th>\n",
       "      <th>High</th>\n",
       "      <th>Low</th>\n",
       "      <th>Average_Gold</th>\n",
       "      <th>avg_gold_GBP</th>\n",
       "    </tr>\n",
       "  </thead>\n",
       "  <tbody>\n",
       "    <tr>\n",
       "      <th>0</th>\n",
       "      <td>2011-12-15</td>\n",
       "      <td>154.740005</td>\n",
       "      <td>154.949997</td>\n",
       "      <td>151.710007</td>\n",
       "      <td>153.800003</td>\n",
       "      <td>123.040002</td>\n",
       "    </tr>\n",
       "    <tr>\n",
       "      <th>1</th>\n",
       "      <td>2011-12-16</td>\n",
       "      <td>154.309998</td>\n",
       "      <td>155.369995</td>\n",
       "      <td>153.899994</td>\n",
       "      <td>154.526662</td>\n",
       "      <td>123.621330</td>\n",
       "    </tr>\n",
       "    <tr>\n",
       "      <th>2</th>\n",
       "      <td>2011-12-19</td>\n",
       "      <td>155.479996</td>\n",
       "      <td>155.860001</td>\n",
       "      <td>154.360001</td>\n",
       "      <td>155.233333</td>\n",
       "      <td>124.186666</td>\n",
       "    </tr>\n",
       "    <tr>\n",
       "      <th>3</th>\n",
       "      <td>2011-12-20</td>\n",
       "      <td>156.820007</td>\n",
       "      <td>157.429993</td>\n",
       "      <td>156.580002</td>\n",
       "      <td>156.943334</td>\n",
       "      <td>125.554667</td>\n",
       "    </tr>\n",
       "    <tr>\n",
       "      <th>4</th>\n",
       "      <td>2011-12-21</td>\n",
       "      <td>156.979996</td>\n",
       "      <td>157.529999</td>\n",
       "      <td>156.130005</td>\n",
       "      <td>156.880000</td>\n",
       "      <td>125.504000</td>\n",
       "    </tr>\n",
       "  </tbody>\n",
       "</table>\n",
       "</div>"
      ],
      "text/plain": [
       "         Date        Open        High         Low  Average_Gold  avg_gold_GBP\n",
       "0  2011-12-15  154.740005  154.949997  151.710007    153.800003    123.040002\n",
       "1  2011-12-16  154.309998  155.369995  153.899994    154.526662    123.621330\n",
       "2  2011-12-19  155.479996  155.860001  154.360001    155.233333    124.186666\n",
       "3  2011-12-20  156.820007  157.429993  156.580002    156.943334    125.554667\n",
       "4  2011-12-21  156.979996  157.529999  156.130005    156.880000    125.504000"
      ]
     },
     "execution_count": 72,
     "metadata": {},
     "output_type": "execute_result"
    }
   ],
   "source": [
    "# Convert the daily average price of gold to British Pounds\n",
    "gold_subset['avg_gold_GBP'] = gold_subset['Average_Gold'].apply(lambda x: x * 0.8)\n",
    "\n",
    "gold_subset.head()"
   ]
  },
  {
   "cell_type": "code",
   "execution_count": 74,
   "id": "cbe82439-3bb4-48de-b812-a9dbff05e895",
   "metadata": {},
   "outputs": [
    {
     "data": {
      "text/html": [
       "<div>\n",
       "<style scoped>\n",
       "    .dataframe tbody tr th:only-of-type {\n",
       "        vertical-align: middle;\n",
       "    }\n",
       "\n",
       "    .dataframe tbody tr th {\n",
       "        vertical-align: top;\n",
       "    }\n",
       "\n",
       "    .dataframe thead th {\n",
       "        text-align: right;\n",
       "    }\n",
       "</style>\n",
       "<table border=\"1\" class=\"dataframe\">\n",
       "  <thead>\n",
       "    <tr style=\"text-align: right;\">\n",
       "      <th></th>\n",
       "      <th>Date</th>\n",
       "      <th>Open</th>\n",
       "      <th>High</th>\n",
       "      <th>Low</th>\n",
       "      <th>Average_Oil</th>\n",
       "      <th>avg_oil_GBP</th>\n",
       "    </tr>\n",
       "  </thead>\n",
       "  <tbody>\n",
       "    <tr>\n",
       "      <th>0</th>\n",
       "      <td>2011-12-01</td>\n",
       "      <td>100.51</td>\n",
       "      <td>101.17</td>\n",
       "      <td>98.87</td>\n",
       "      <td>100.183333</td>\n",
       "      <td>80.146667</td>\n",
       "    </tr>\n",
       "    <tr>\n",
       "      <th>1</th>\n",
       "      <td>2011-12-02</td>\n",
       "      <td>100.00</td>\n",
       "      <td>101.56</td>\n",
       "      <td>99.76</td>\n",
       "      <td>100.440000</td>\n",
       "      <td>80.352000</td>\n",
       "    </tr>\n",
       "    <tr>\n",
       "      <th>2</th>\n",
       "      <td>2011-12-05</td>\n",
       "      <td>101.23</td>\n",
       "      <td>102.44</td>\n",
       "      <td>100.24</td>\n",
       "      <td>101.303333</td>\n",
       "      <td>81.042667</td>\n",
       "    </tr>\n",
       "    <tr>\n",
       "      <th>3</th>\n",
       "      <td>2011-12-06</td>\n",
       "      <td>100.45</td>\n",
       "      <td>101.42</td>\n",
       "      <td>100.20</td>\n",
       "      <td>100.690000</td>\n",
       "      <td>80.552000</td>\n",
       "    </tr>\n",
       "    <tr>\n",
       "      <th>4</th>\n",
       "      <td>2011-12-07</td>\n",
       "      <td>101.11</td>\n",
       "      <td>101.94</td>\n",
       "      <td>99.67</td>\n",
       "      <td>100.906667</td>\n",
       "      <td>80.725333</td>\n",
       "    </tr>\n",
       "  </tbody>\n",
       "</table>\n",
       "</div>"
      ],
      "text/plain": [
       "         Date    Open    High     Low  Average_Oil  avg_oil_GBP\n",
       "0  2011-12-01  100.51  101.17   98.87   100.183333    80.146667\n",
       "1  2011-12-02  100.00  101.56   99.76   100.440000    80.352000\n",
       "2  2011-12-05  101.23  102.44  100.24   101.303333    81.042667\n",
       "3  2011-12-06  100.45  101.42  100.20   100.690000    80.552000\n",
       "4  2011-12-07  101.11  101.94   99.67   100.906667    80.725333"
      ]
     },
     "execution_count": 74,
     "metadata": {},
     "output_type": "execute_result"
    }
   ],
   "source": [
    "# Convert the daily average price of gold to British Pounds\n",
    "oil_subset['avg_oil_GBP'] = oil_subset['Average_Oil'].apply(lambda x: x * 0.8)\n",
    "\n",
    "oil_subset.head()"
   ]
  },
  {
   "cell_type": "code",
   "execution_count": 80,
   "id": "398485d1-ec90-45e4-a5f5-2a03161f0316",
   "metadata": {},
   "outputs": [
    {
     "name": "stdout",
     "output_type": "stream",
     "text": [
      "         Date  avg_gold_GBP\n",
      "0  2011-12-15    123.040002\n",
      "1  2011-12-16    123.621330\n",
      "2  2011-12-19    124.186666\n",
      "3  2011-12-20    125.554667\n",
      "4  2011-12-21    125.504000\n",
      "         Date  avg_oil_GBP\n",
      "0  2011-12-01    80.146667\n",
      "1  2011-12-02    80.352000\n",
      "2  2011-12-05    81.042667\n",
      "3  2011-12-06    80.552000\n",
      "4  2011-12-07    80.725333\n"
     ]
    }
   ],
   "source": [
    "# Subset the two DataFrames so that each only contains the date and \n",
    "# average gold and oil prices in GBP.\n",
    "gold = gold_subset[['Date', 'avg_gold_GBP']]\n",
    "print(gold.head())\n",
    "\n",
    "oil = oil_subset[['Date', 'avg_oil_GBP']]\n",
    "print(oil.head())"
   ]
  },
  {
   "cell_type": "code",
   "execution_count": 82,
   "id": "7d895dd0-c0dc-435d-b7ea-1163fb89ca04",
   "metadata": {},
   "outputs": [
    {
     "data": {
      "text/html": [
       "<div>\n",
       "<style scoped>\n",
       "    .dataframe tbody tr th:only-of-type {\n",
       "        vertical-align: middle;\n",
       "    }\n",
       "\n",
       "    .dataframe tbody tr th {\n",
       "        vertical-align: top;\n",
       "    }\n",
       "\n",
       "    .dataframe thead th {\n",
       "        text-align: right;\n",
       "    }\n",
       "</style>\n",
       "<table border=\"1\" class=\"dataframe\">\n",
       "  <thead>\n",
       "    <tr style=\"text-align: right;\">\n",
       "      <th></th>\n",
       "      <th>Date</th>\n",
       "      <th>avg_gold_GBP</th>\n",
       "      <th>avg_oil_GBP</th>\n",
       "    </tr>\n",
       "  </thead>\n",
       "  <tbody>\n",
       "    <tr>\n",
       "      <th>0</th>\n",
       "      <td>2011-12-15</td>\n",
       "      <td>123.040002</td>\n",
       "      <td>75.784000</td>\n",
       "    </tr>\n",
       "    <tr>\n",
       "      <th>1</th>\n",
       "      <td>2011-12-16</td>\n",
       "      <td>123.621330</td>\n",
       "      <td>74.861333</td>\n",
       "    </tr>\n",
       "    <tr>\n",
       "      <th>2</th>\n",
       "      <td>2011-12-19</td>\n",
       "      <td>124.186666</td>\n",
       "      <td>74.858667</td>\n",
       "    </tr>\n",
       "    <tr>\n",
       "      <th>3</th>\n",
       "      <td>2011-12-20</td>\n",
       "      <td>125.554667</td>\n",
       "      <td>76.194667</td>\n",
       "    </tr>\n",
       "    <tr>\n",
       "      <th>4</th>\n",
       "      <td>2011-12-21</td>\n",
       "      <td>125.504000</td>\n",
       "      <td>78.288000</td>\n",
       "    </tr>\n",
       "    <tr>\n",
       "      <th>...</th>\n",
       "      <td>...</td>\n",
       "      <td>...</td>\n",
       "      <td>...</td>\n",
       "    </tr>\n",
       "    <tr>\n",
       "      <th>495</th>\n",
       "      <td>2014-01-27</td>\n",
       "      <td>97.181334</td>\n",
       "      <td>NaN</td>\n",
       "    </tr>\n",
       "    <tr>\n",
       "      <th>496</th>\n",
       "      <td>2014-01-28</td>\n",
       "      <td>96.834668</td>\n",
       "      <td>NaN</td>\n",
       "    </tr>\n",
       "    <tr>\n",
       "      <th>497</th>\n",
       "      <td>2014-01-29</td>\n",
       "      <td>97.554667</td>\n",
       "      <td>NaN</td>\n",
       "    </tr>\n",
       "    <tr>\n",
       "      <th>498</th>\n",
       "      <td>2014-01-30</td>\n",
       "      <td>95.863999</td>\n",
       "      <td>NaN</td>\n",
       "    </tr>\n",
       "    <tr>\n",
       "      <th>499</th>\n",
       "      <td>2014-02-03</td>\n",
       "      <td>96.773334</td>\n",
       "      <td>NaN</td>\n",
       "    </tr>\n",
       "  </tbody>\n",
       "</table>\n",
       "<p>500 rows × 3 columns</p>\n",
       "</div>"
      ],
      "text/plain": [
       "           Date  avg_gold_GBP  avg_oil_GBP\n",
       "0    2011-12-15    123.040002    75.784000\n",
       "1    2011-12-16    123.621330    74.861333\n",
       "2    2011-12-19    124.186666    74.858667\n",
       "3    2011-12-20    125.554667    76.194667\n",
       "4    2011-12-21    125.504000    78.288000\n",
       "..          ...           ...          ...\n",
       "495  2014-01-27     97.181334          NaN\n",
       "496  2014-01-28     96.834668          NaN\n",
       "497  2014-01-29     97.554667          NaN\n",
       "498  2014-01-30     95.863999          NaN\n",
       "499  2014-02-03     96.773334          NaN\n",
       "\n",
       "[500 rows x 3 columns]"
      ]
     },
     "execution_count": 82,
     "metadata": {},
     "output_type": "execute_result"
    }
   ],
   "source": [
    "# Merge the two DataFrames.\n",
    "gold_oil = pd.merge(gold, oil, on='Date', how='left')\n",
    "\n",
    "gold_oil"
   ]
  },
  {
   "cell_type": "code",
   "execution_count": null,
   "id": "ec61d4c9-69ee-42c3-a0f5-8bc8a466b005",
   "metadata": {},
   "outputs": [],
   "source": []
  }
 ],
 "metadata": {
  "kernelspec": {
   "display_name": "Python 3 (ipykernel)",
   "language": "python",
   "name": "python3"
  },
  "language_info": {
   "codemirror_mode": {
    "name": "ipython",
    "version": 3
   },
   "file_extension": ".py",
   "mimetype": "text/x-python",
   "name": "python",
   "nbconvert_exporter": "python",
   "pygments_lexer": "ipython3",
   "version": "3.12.4"
  }
 },
 "nbformat": 4,
 "nbformat_minor": 5
}
